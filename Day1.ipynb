{
 "cells": [
  {
   "cell_type": "code",
   "execution_count": 0,
   "metadata": {
    "colab": {
     "base_uri": "https://localhost:8080/",
     "height": 34
    },
    "colab_type": "code",
    "executionInfo": {
     "elapsed": 1360,
     "status": "ok",
     "timestamp": 1575323341279,
     "user": {
      "displayName": "gaston araujo",
      "photoUrl": "",
      "userId": "14852371452812350832"
     },
     "user_tz": 180
    },
    "id": "BhxKv9aWRWPz",
    "outputId": "0a5f943d-bf85-41d8-e46e-17bbda7ddd37"
   },
   "outputs": [
    {
     "name": "stdout",
     "output_type": "stream",
     "text": [
      "La suma es: 3296269\n"
     ]
    }
   ],
   "source": [
    "b= [147308,\n",
    "51605,\n",
    "71317,\n",
    "110882,\n",
    "92545,\n",
    "126856,\n",
    "104937,\n",
    "92433,\n",
    "107850,\n",
    "119538,\n",
    "82733,\n",
    "52216,\n",
    "105704,\n",
    "123682,\n",
    "105919,\n",
    "136265,\n",
    "100540,\n",
    "84245,\n",
    "72006,\n",
    "111652,\n",
    "85116,\n",
    "85841,\n",
    "71374,\n",
    "144196,\n",
    "125493,\n",
    "113529,\n",
    "64637,\n",
    "87489,\n",
    "138161,\n",
    "120897,\n",
    "53384,\n",
    "83310,\n",
    "126144,\n",
    "120672,\n",
    "107681,\n",
    "101369,\n",
    "77469,\n",
    "141056,\n",
    "140426,\n",
    "114920,\n",
    "124454,\n",
    "130867,\n",
    "64611,\n",
    "104813,\n",
    "138808,\n",
    "114234,\n",
    "148654,\n",
    "59031,\n",
    "91367,\n",
    "83316,\n",
    "106192,\n",
    "127495,\n",
    "139980,\n",
    "119024,\n",
    "149567,\n",
    "57007,\n",
    "61075,\n",
    "65637,\n",
    "75293,\n",
    "61670,\n",
    "104044,\n",
    "77230,\n",
    "80201,\n",
    "137094,\n",
    "99733,\n",
    "50801,\n",
    "68922,\n",
    "148404,\n",
    "79980,\n",
    "62716,\n",
    "67666,\n",
    "72694,\n",
    "81951,\n",
    "108427,\n",
    "111721,\n",
    "55532,\n",
    "94442,\n",
    "88562,\n",
    "101088,\n",
    "111656,\n",
    "111649,\n",
    "92085,\n",
    "91730,\n",
    "114744,\n",
    "59355,\n",
    "55842,\n",
    "100926,\n",
    "146370,\n",
    "147829,\n",
    "62160,\n",
    "91447,\n",
    "115745,\n",
    "141815,\n",
    "106837,\n",
    "68151,\n",
    "89077,\n",
    "60357,\n",
    "89856,\n",
    "75040,\n",
    "139131]\n",
    "\n",
    "l=len(b)\n",
    "\n",
    "a=b\n",
    "suma=0\n",
    "for i in range(l):\n",
    "  c=int(b[i]/3)-2\n",
    "  a[i]=c \n",
    "\n",
    "  suma=a[i]+suma\n",
    "print('La suma es:', suma)  \n"
   ]
  },
  {
   "cell_type": "code",
   "execution_count": 0,
   "metadata": {
    "colab": {
     "base_uri": "https://localhost:8080/",
     "height": 51
    },
    "colab_type": "code",
    "executionInfo": {
     "elapsed": 1051,
     "status": "ok",
     "timestamp": 1575323772906,
     "user": {
      "displayName": "gaston araujo",
      "photoUrl": "",
      "userId": "14852371452812350832"
     },
     "user_tz": 180
    },
    "id": "9gJhqyi3lrp2",
    "outputId": "8c00ed3d-d75f-48a5-c5e8-e0e16253584b"
   },
   "outputs": [
    {
     "name": "stdout",
     "output_type": "stream",
     "text": [
      "Se necesita:  4941547\n",
      "Te dio 4941547?\n"
     ]
    }
   ],
   "source": [
    "Total=0\n",
    "\n",
    "for i in range(l):\n",
    "  Comb=int(a[i]/3) - 2\n",
    "  while Comb > 0:\n",
    "    Total=Comb + Total\n",
    "    Comb = int(Comb/3) - 2\n",
    "    \n",
    "Total=Total + suma\n",
    "print('Se necesita: ', Total)\n",
    "print('Te dio 4941547?')\n"
   ]
  }
 ],
 "metadata": {
  "colab": {
   "name": "Day1",
   "provenance": []
  },
  "kernelspec": {
   "display_name": "Python 3",
   "language": "python",
   "name": "python3"
  },
  "language_info": {
   "codemirror_mode": {
    "name": "ipython",
    "version": 3
   },
   "file_extension": ".py",
   "mimetype": "text/x-python",
   "name": "python",
   "nbconvert_exporter": "python",
   "pygments_lexer": "ipython3",
   "version": "3.7.3"
  }
 },
 "nbformat": 4,
 "nbformat_minor": 1
}
