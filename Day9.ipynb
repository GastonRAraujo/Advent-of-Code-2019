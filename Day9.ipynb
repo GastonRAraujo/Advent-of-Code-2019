{
 "cells": [
  {
   "cell_type": "code",
   "execution_count": 1,
   "metadata": {
    "colab": {
     "base_uri": "https://localhost:8080/",
     "height": 122
    },
    "colab_type": "code",
    "executionInfo": {
     "elapsed": 24464,
     "status": "ok",
     "timestamp": 1580527878984,
     "user": {
      "displayName": "gaston araujo",
      "photoUrl": "",
      "userId": "14852371452812350832"
     },
     "user_tz": 180
    },
    "id": "51sm8CEtQSxS",
    "outputId": "7cbc4a92-3f0f-4863-dec8-58e3f2c8abfc"
   },
   "outputs": [],
   "source": [
    "#Day 9: Sensor Boost\n",
    "# Monto Drive\n",
    "\n",
    "from google.colab import drive\n",
    "drive.mount('/content/drive', force_remount=False)\n",
    "#--------------------------------DATOS DRIVE------------------------------------------\n",
    "#igreso el data set\n",
    "with open('/content/drive/My Drive/Colab Notebooks/Day9/Input_Data.txt', 'r') as f: \n",
    "    \n",
    "    data=f.read()"
   ]
  },
  {
   "cell_type": "code",
   "execution_count": 1,
   "metadata": {
    "colab": {},
    "colab_type": "code",
    "id": "-gEexPY6DJvn"
   },
   "outputs": [],
   "source": [
    "#Parte 1\n",
    "from IntCodeFunc import *\n",
    "\n",
    "#--------------------------------DATOS------------------------------------------\n",
    "#igreso el data set\n",
    "input1 = open('C:/Users/GastonRA/Google Drive/Colab Notebooks/Day9/Input_Data.txt', \"r\")\n",
    "data = input1.read()\n",
    "input1.close()\n",
    "\n",
    "data=data.split(\",\")\n",
    "\n",
    "for i in range(len(data)):\n",
    "    data[i]=int(data[i])\n",
    "\n",
    "for i in range(10000):\n",
    "    data.append(0)\n"
   ]
  },
  {
   "cell_type": "code",
   "execution_count": 2,
   "metadata": {},
   "outputs": [
    {
     "name": "stdout",
     "output_type": "stream",
     "text": [
      "Output: 3780860499\n"
     ]
    }
   ],
   "source": [
    "Sensor=SensorBoost(data)\n",
    "\n",
    "part1 = intcodeRun(Sensor, 1)\n"
   ]
  },
  {
   "cell_type": "code",
   "execution_count": 3,
   "metadata": {},
   "outputs": [
    {
     "name": "stdout",
     "output_type": "stream",
     "text": [
      "Output: 33343\n"
     ]
    }
   ],
   "source": [
    "part2 = intcodeRun(Sensor, 2)"
   ]
  }
 ],
 "metadata": {
  "colab": {
   "authorship_tag": "ABX9TyNOeNA8GnXoun8m8a1/z1xd",
   "name": "Day9",
   "provenance": []
  },
  "kernelspec": {
   "display_name": "Python 3",
   "language": "python",
   "name": "python3"
  },
  "language_info": {
   "codemirror_mode": {
    "name": "ipython",
    "version": 3
   },
   "file_extension": ".py",
   "mimetype": "text/x-python",
   "name": "python",
   "nbconvert_exporter": "python",
   "pygments_lexer": "ipython3",
   "version": "3.7.3"
  }
 },
 "nbformat": 4,
 "nbformat_minor": 2
}
