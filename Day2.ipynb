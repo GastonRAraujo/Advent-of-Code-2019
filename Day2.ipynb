{
 "cells": [
  {
   "cell_type": "code",
   "execution_count": null,
   "metadata": {
    "colab": {},
    "colab_type": "code",
    "id": "riYqqLH3PDqx",
    "outputId": "2df37c35-859a-4f2a-a2ef-8ba01efc4182"
   },
   "outputs": [
    {
     "name": "stdout",
     "output_type": "stream",
     "text": [
      "STOP\n",
      "El resultado es:  3409710 3409710\n"
     ]
    }
   ],
   "source": [
    "b=[1,12,2,3,1,1,2,3,1,3,4,3,1,5,0,3,2,13,1,19,1,19,9,23,1,5,23,27,1,27,9,31,1,6,31,35,2,35,9,39,1,39,6,43,2,9,43,47,1,47,6,51,2,51,9,55,1,5,55,59,2,59,6,63,1,9,63,67,1,67,10,71,1,71,13,75,2,13,75,79,1,6,79,83,2,9,83,87,1,87,6,91,2,10,91,95,2,13,95,99,1,9,99,103,1,5,103,107,2,9,107,111,1,111,5,115,1,115,5,119,1,10,119,123,1,13,123,127,1,2,127,131,1,131,13,0,99,2,14,0,0]\n",
    "\n",
    "l=len(b)\n",
    "\n",
    "for i in range(0,l-1,4):\n",
    "    Operacion=b[i]\n",
    "    Num1=b[i+1]\n",
    "    Num2=b[i+2]\n",
    "    Pos=b[i+3]\n",
    "    if Operacion==1:\n",
    "        b[Pos]=b[Num1]+b[Num2]\n",
    "    elif Operacion==2:\n",
    "        b[Pos]=b[Num1]*b[Num2]\n",
    "    elif Operacion==99:\n",
    "        print('STOP')\n",
    "        break\n",
    "        print('JA NO TE ANDUVO')\n",
    "print('El resultado es: ', b[0])\n",
    "    \n",
    "    \n",
    "    \n",
    "\n"
   ]
  },
  {
   "cell_type": "code",
   "execution_count": null,
   "metadata": {
    "colab": {
     "base_uri": "https://localhost:8080/",
     "height": 72
    },
    "colab_type": "code",
    "executionInfo": {
     "elapsed": 1189,
     "status": "ok",
     "timestamp": 1575422805915,
     "user": {
      "displayName": "gaston araujo",
      "photoUrl": "",
      "userId": "14852371452812350832"
     },
     "user_tz": 180
    },
    "id": "Vj5ZdE3SPDq9",
    "outputId": "49220c17-8e78-456a-b25e-e4efca01ba5f"
   },
   "outputs": [
    {
     "name": "stdout",
     "output_type": "stream",
     "text": [
      "YAS! at verb:  12  and noun:  80\n",
      "El resultado es:  19690720 \n",
      "100 * noun + verb =  7912\n"
     ]
    }
   ],
   "source": [
    "#Parte 2\n",
    "\n",
    "b=[1,12,2,3,1,1,2,3,1,3,4,3,1,5,0,3,2,13,1,19,1,19,9,23,1,5,23,27,1,27,9,31,1,6,31,35,2,35,9,39,1,39,6,43,2,9,43,47,1,47,6,51,2,51,9,55,1,5,55,59,2,59,6,63,1,9,63,67,1,67,10,71,1,71,13,75,2,13,75,79,1,6,79,83,2,9,83,87,1,87,6,91,2,10,91,95,2,13,95,99,1,9,99,103,1,5,103,107,2,9,107,111,1,111,5,115,1,115,5,119,1,10,119,123,1,13,123,127,1,2,127,131,1,131,13,0,99,2,14,0,0]\n",
    "\n",
    "l=len(b)\n",
    "for noun in range(0,100):\n",
    "    if b[0]==19690720:\n",
    "          print('YAS! at verb: ', verb, ' and noun: ', noun)\n",
    "          break\n",
    "    for verb in range(0,100):\n",
    "        if b[0]==19690720:\n",
    "          print('YAS! at' , verb, noun)\n",
    "          break\n",
    "\n",
    "        b=[1,12,2,3,1,1,2,3,1,3,4,3,1,5,0,3,2,13,1,19,1,19,9,23,1,5,23,27,1,27,9,31,1,6,31,35,2,35,9,39,1,39,6,43,2,9,43,47,1,47,6,51,2,51,9,55,1,5,55,59,2,59,6,63,1,9,63,67,1,67,10,71,1,71,13,75,2,13,75,79,1,6,79,83,2,9,83,87,1,87,6,91,2,10,91,95,2,13,95,99,1,9,99,103,1,5,103,107,2,9,107,111,1,111,5,115,1,115,5,119,1,10,119,123,1,13,123,127,1,2,127,131,1,131,13,0,99,2,14,0,0]\n",
    "\n",
    "        b[1]=noun\n",
    "        b[2]=verb\n",
    "        for i in range(0,l,4):\n",
    "                opcod=b[i]\n",
    "                Parameter1=b[i+1]\n",
    "                Parameter2=b[i+2]\n",
    "                Pos=b[i+3]\n",
    "                \n",
    "                if opcod!=99 and Pos>len(b)-1:  #chequea que tenga sentido la posicion\n",
    "                  continue\n",
    "\n",
    "#---------------OPCODES || OPERACIONES\n",
    "                if opcod==1:\n",
    "                    b[Pos]=b[Parameter1]+b[Parameter2]\n",
    "                elif opcod==2:\n",
    "                    b[Pos]=b[Parameter1]*b[Parameter2]\n",
    "                elif opcod==99:\n",
    "                    break \n",
    "                    \n",
    "#---------------Chequeemos la wea en cero\n",
    "        if b[0] == 19690720:\n",
    "          #print('AL FIN TE DIO: ', b[0])\n",
    "          #print('El resultado es: ', b[0], '\\n100 * noun + verb = ', b[1]*100+b[2])\n",
    "          break\n",
    "         \n",
    "if b[0] == 19690720:\n",
    "  print('El resultado es: ', b[0], '\\n100 * noun + verb = ', b[1]*100+b[2])\n",
    "else:\n",
    "  print('PAPANATAS')"
   ]
  }
 ],
 "metadata": {
  "colab": {
   "name": "Copia de Day2.ipynb",
   "provenance": [
    {
     "file_id": "11vPLJ90airdVfj-XuEFUrjqklE8CDJIW",
     "timestamp": 1575746285263
    }
   ]
  },
  "kernelspec": {
   "display_name": "Python 3",
   "language": "python",
   "name": "python3"
  },
  "language_info": {
   "codemirror_mode": {
    "name": "ipython",
    "version": 3
   },
   "file_extension": ".py",
   "mimetype": "text/x-python",
   "name": "python",
   "nbconvert_exporter": "python",
   "pygments_lexer": "ipython3",
   "version": "3.7.3"
  }
 },
 "nbformat": 4,
 "nbformat_minor": 2
}
