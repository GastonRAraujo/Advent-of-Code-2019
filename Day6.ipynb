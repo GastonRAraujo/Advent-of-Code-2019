{
 "cells": [
  {
   "cell_type": "code",
   "execution_count": 0,
   "metadata": {
    "colab": {
     "base_uri": "https://localhost:8080/",
     "height": 34
    },
    "colab_type": "code",
    "executionInfo": {
     "elapsed": 912,
     "status": "ok",
     "timestamp": 1579194820393,
     "user": {
      "displayName": "gaston araujo",
      "photoUrl": "",
      "userId": "14852371452812350832"
     },
     "user_tz": 180
    },
    "id": "_SXD7fKE0P6z",
    "outputId": "001d4033-974b-44ab-a93a-893f277e0884"
   },
   "outputs": [
    {
     "name": "stdout",
     "output_type": "stream",
     "text": [
      "Drive already mounted at /content/drive; to attempt to forcibly remount, call drive.mount(\"/content/drive\", force_remount=True).\n"
     ]
    }
   ],
   "source": [
    "#Parte 1\n",
    "from google.colab import drive\n",
    "drive.mount('/content/drive')\n"
   ]
  },
  {
   "cell_type": "code",
   "execution_count": 0,
   "metadata": {
    "colab": {
     "base_uri": "https://localhost:8080/",
     "height": 34
    },
    "colab_type": "code",
    "executionInfo": {
     "elapsed": 11493,
     "status": "ok",
     "timestamp": 1579195458757,
     "user": {
      "displayName": "gaston araujo",
      "photoUrl": "",
      "userId": "14852371452812350832"
     },
     "user_tz": 180
    },
    "id": "tol2HCEXE270",
    "outputId": "be67d3bd-5be2-4d8a-8366-8b38ddee5be9"
   },
   "outputs": [
    {
     "name": "stdout",
     "output_type": "stream",
     "text": [
      "La cantidad de orbitas es:150150\n"
     ]
    }
   ],
   "source": [
    "#--------------------------------DATOS------------------------------------------\n",
    "with open('/content/drive/My Drive/Colab Notebooks/Day6/pleinput.txt', 'r') as f: \n",
    "    \n",
    "    orbits=f.read()\n",
    "orbits = orbits.split(\"\\n\")\n",
    "for i in range(len(orbits)):\n",
    "    orbits[i] = orbits[i].split(\")\")\n",
    "\n",
    "list1=[]\n",
    "\n",
    "for x in range(len(orbits)):          #armo una nueva lista donde esta todo pero\n",
    "  for y in range(len(orbits[x])):      #flat para poder hacer lo q sigue\n",
    "    list1.append(orbits[x][y])\n",
    "\n",
    "planets=list(set(list1))               #armo una lista sin repeticion de planetas\n",
    "\n",
    "for i in range(len(planets)-1):         #borro COM de los planetas\n",
    "  if planets[i]==\"COM\":\n",
    "    del(planets[i])\n",
    "\n",
    "#-------------------------FUNCIONES--------------------------------------------\n",
    "def findOrbits(orbitArray, world, count):\n",
    "    for i in orbitArray:\n",
    "       \n",
    "        localCount = count\n",
    "        endCheck = i[0]\n",
    "        worldCheck = i[1]\n",
    "       \n",
    "        if(worldCheck==world):\n",
    "            if(endCheck!=\"COM\"):\n",
    "                localCount += 1\n",
    "                returnValue = findOrbits(orbitArray,endCheck,localCount)\n",
    "\n",
    "            else:\n",
    "                localCount +=1\n",
    "                returnValue = localCount\n",
    "               \n",
    "    return returnValue\n",
    "\n",
    "\n",
    "#------------------------AHORA SI--------------------------------------------\n",
    "Orbitcount=0\n",
    "for z in planets:\n",
    "  number=findOrbits(orbits, z, 0)\n",
    "  Orbitcount += number\n",
    "\n",
    "print(\"La cantidad de orbitas es:\" + str(Orbitcount))  "
   ]
  },
  {
   "cell_type": "code",
   "execution_count": 0,
   "metadata": {
    "colab": {
     "base_uri": "https://localhost:8080/",
     "height": 34
    },
    "colab_type": "code",
    "executionInfo": {
     "elapsed": 959,
     "status": "ok",
     "timestamp": 1579196611633,
     "user": {
      "displayName": "gaston araujo",
      "photoUrl": "",
      "userId": "14852371452812350832"
     },
     "user_tz": 180
    },
    "id": "GGQ2E1a0W_M9",
    "outputId": "238b7ffd-e12a-4311-a882-6432657e55f8"
   },
   "outputs": [
    {
     "name": "stdout",
     "output_type": "stream",
     "text": [
      "352\n"
     ]
    }
   ],
   "source": [
    "#Parte2\n",
    "#--------------------------------DATOS------------------------------------------\n",
    "with open('/content/drive/My Drive/Colab Notebooks/Day6/pleinput2.txt', 'r') as f: \n",
    "    #puzzleinput=open(\"plzinput.txt\", \"r\")\n",
    "    orbits=f.read()\n",
    "orbits = orbits.split(\"\\n\")\n",
    "for i in range(len(orbits)):\n",
    "    orbits[i] = orbits[i].split(\")\")\n",
    "\n",
    "list1=[]\n",
    "\n",
    "for x in range(len(orbits)):          #armo una nueva lista donde esta todo pero\n",
    "  for y in range(len(orbits[x])):      #flat para poder hacer lo q sigue\n",
    "    list1.append(orbits[x][y])\n",
    "\n",
    "planets=list(set(list1))               #armo una lista sin repeticion de planetas\n",
    "\n",
    "for i in range(len(planets)-1):         #borro COM de los planetas\n",
    "  if planets[i]==\"COM\":\n",
    "    del(planets[i])\n",
    "list2=[]\n",
    "#-------------------------FUNCIONES--------------------------------------------\n",
    "def findOrbits(orbitArray, world):\n",
    "    for i in orbitArray:\n",
    "       \n",
    "        endCheck = i[0]\n",
    "        worldCheck = i[1]\n",
    "       \n",
    "        if(worldCheck==world):\n",
    "            if(endCheck!=\"COM\"):                \n",
    "                list2.append(worldCheck)\n",
    "                returnValue = findOrbits(orbitArray,endCheck)\n",
    "\n",
    "            else:\n",
    "                returnValue = list2\n",
    "                               \n",
    "    return returnValue\n",
    "\n",
    "def orbitlen(orbitArray, world, count, endPlanet):\n",
    "  for i in orbitArray:\n",
    "       \n",
    "        localCount = count\n",
    "        endCheck = i[0]\n",
    "        worldCheck = i[1]\n",
    "       \n",
    "        if(worldCheck==world):\n",
    "            if(endCheck!=endPlanet):\n",
    "                localCount += 1\n",
    "                returnValue2 = orbitlen(orbitArray,endCheck,localCount,endPlanet)\n",
    "\n",
    "            else:\n",
    "                localCount +=1\n",
    "                returnValue2 = localCount\n",
    "               \n",
    "  return returnValue2\n",
    "#------------------------AHORA SI--------------------------------------------\n",
    "ME = findOrbits(orbits, \"YOU\")\n",
    "list2=[]\n",
    "SantaOrbita = findOrbits(orbits, \"SAN\")\n",
    "stop=0\n",
    "for i in ME:\n",
    "  for j in SantaOrbita:\n",
    "    if i == j and stop!=1:\n",
    "      PLANETAfinal=j\n",
    "      stop=1\n",
    "\n",
    "MiLong = orbitlen(orbits, ME[1], 0, PLANETAfinal)\n",
    "SANTALong = orbitlen(orbits, SantaOrbita[1], 0, PLANETAfinal)    \n",
    "\n",
    "print(MiLong+SANTALong)"
   ]
  }
 ],
 "metadata": {
  "colab": {
   "name": "Day 6",
   "provenance": []
  },
  "kernelspec": {
   "display_name": "Python 3",
   "language": "python",
   "name": "python3"
  },
  "language_info": {
   "codemirror_mode": {
    "name": "ipython",
    "version": 3
   },
   "file_extension": ".py",
   "mimetype": "text/x-python",
   "name": "python",
   "nbconvert_exporter": "python",
   "pygments_lexer": "ipython3",
   "version": "3.7.3"
  }
 },
 "nbformat": 4,
 "nbformat_minor": 1
}
