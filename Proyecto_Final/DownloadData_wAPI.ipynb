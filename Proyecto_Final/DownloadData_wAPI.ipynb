{
  "nbformat": 4,
  "nbformat_minor": 0,
  "metadata": {
    "colab": {
      "name": "DownloadData_wAPI.ipynb",
      "provenance": [],
      "collapsed_sections": [],
      "authorship_tag": "ABX9TyOqp4ec189ZCTaEpCzw8tk2",
      "include_colab_link": true
    },
    "kernelspec": {
      "name": "python3",
      "display_name": "Python 3"
    }
  },
  "cells": [
    {
      "cell_type": "markdown",
      "metadata": {
        "id": "view-in-github",
        "colab_type": "text"
      },
      "source": [
        "<a href=\"https://colab.research.google.com/github/GastonRAraujo/Advent-of-Code-2019/blob/master/Proyecto_Final/DownloadData_wAPI.ipynb\" target=\"_parent\"><img src=\"https://colab.research.google.com/assets/colab-badge.svg\" alt=\"Open In Colab\"/></a>"
      ]
    },
    {
      "cell_type": "markdown",
      "metadata": {
        "id": "qgPjZtRI9IY1"
      },
      "source": [
        "Utilizando la API de Kaggle se descargará el dataset para luego subirlo a GitHub y asi agilizar su uso."
      ]
    },
    {
      "cell_type": "markdown",
      "metadata": {
        "id": "vgecECZf9bQx"
      },
      "source": [
        "Primero montamos google drive."
      ]
    },
    {
      "cell_type": "code",
      "metadata": {
        "colab": {
          "base_uri": "https://localhost:8080/"
        },
        "id": "EJK9sUfZY5t1",
        "outputId": "288b89ba-943e-420a-8147-7cbb0c2d0fe0"
      },
      "source": [
        "from google.colab import drive\r\n",
        "drive.mount('/gdrive')"
      ],
      "execution_count": 1,
      "outputs": [
        {
          "output_type": "stream",
          "text": [
            "Mounted at /gdrive\n"
          ],
          "name": "stdout"
        }
      ]
    },
    {
      "cell_type": "markdown",
      "metadata": {
        "id": "ocASFulx9e7M"
      },
      "source": [
        "Luego debemos localizar la carpeta donde se encuentra el archivo \"json\" o token que nos permite realizar la descarga."
      ]
    },
    {
      "cell_type": "code",
      "metadata": {
        "id": "3SZGdLCyY97d"
      },
      "source": [
        "import os\r\n",
        "os.environ['KAGGLE_CONFIG_DIR'] = '/gdrive/MyDrive/UNS/Aprendizaje_de_maquina/Proyecto_Final'"
      ],
      "execution_count": 2,
      "outputs": []
    },
    {
      "cell_type": "markdown",
      "metadata": {
        "id": "p7VyhrfN9m6U"
      },
      "source": [
        "Kaggle nos proporciona el codigo que debemos utilizar para descargar el dataset que querramos"
      ]
    },
    {
      "cell_type": "code",
      "metadata": {
        "colab": {
          "base_uri": "https://localhost:8080/"
        },
        "id": "Q15K97_UY_Kr",
        "outputId": "ea32f77d-6a0d-4bf0-a8ff-d2a4ce31f27a"
      },
      "source": [
        "!kaggle competitions download -c asap-aes\r\n",
        "\r\n"
      ],
      "execution_count": 3,
      "outputs": [
        {
          "output_type": "stream",
          "text": [
            "Warning: Looks like you're using an outdated API Version, please consider updating (server 1.5.10 / client 1.5.4)\n",
            "Downloading test_set.tsv.zip to /content\n",
            "  0% 0.00/1.60M [00:00<?, ?B/s]\n",
            "100% 1.60M/1.60M [00:00<00:00, 53.4MB/s]\n",
            "Downloading valid_set.xlsx.zip to /content\n",
            "  0% 0.00/2.01M [00:00<?, ?B/s]\n",
            "100% 2.01M/2.01M [00:00<00:00, 62.6MB/s]\n",
            "Downloading valid_sample_submission_2_column.csv to /content\n",
            "  0% 0.00/41.4k [00:00<?, ?B/s]\n",
            "100% 41.4k/41.4k [00:00<00:00, 36.2MB/s]\n",
            "Downloading training_set_rel3.tsv.zip to /content\n",
            "  0% 0.00/4.86M [00:00<?, ?B/s]\n",
            "100% 4.86M/4.86M [00:00<00:00, 43.9MB/s]\n",
            "Downloading valid_set.tsv.zip to /content\n",
            "  0% 0.00/1.60M [00:00<?, ?B/s]\n",
            "100% 1.60M/1.60M [00:00<00:00, 102MB/s]\n",
            "Downloading valid_sample_submission_1_column.csv to /content\n",
            "  0% 0.00/14.9k [00:00<?, ?B/s]\n",
            "100% 14.9k/14.9k [00:00<00:00, 15.3MB/s]\n",
            "Downloading Training_Materials.zip to /content\n",
            " 75% 41.0M/55.0M [00:00<00:00, 57.3MB/s]\n",
            "100% 55.0M/55.0M [00:00<00:00, 93.5MB/s]\n",
            "Downloading Essay_Set_Descriptions.zip to /content\n",
            "  0% 0.00/214k [00:00<?, ?B/s]\n",
            "100% 214k/214k [00:00<00:00, 68.4MB/s]\n",
            "Downloading valid_set.xls.zip to /content\n",
            "  0% 0.00/1.79M [00:00<?, ?B/s]\n",
            "100% 1.79M/1.79M [00:00<00:00, 120MB/s]\n",
            "Downloading training_set_rel3.xlsx.zip to /content\n",
            " 81% 5.00M/6.20M [00:00<00:00, 52.3MB/s]\n",
            "100% 6.20M/6.20M [00:00<00:00, 56.8MB/s]\n",
            "Downloading valid_sample_submission_5_column.csv to /content\n",
            "  0% 0.00/88.5k [00:00<?, ?B/s]\n",
            "100% 88.5k/88.5k [00:00<00:00, 71.7MB/s]\n",
            "Downloading valid_sample_submission_1_column_no_header.csv to /content\n",
            "  0% 0.00/14.9k [00:00<?, ?B/s]\n",
            "100% 14.9k/14.9k [00:00<00:00, 7.88MB/s]\n",
            "Downloading training_set_rel3.xls.zip to /content\n",
            " 91% 5.00M/5.49M [00:00<00:00, 46.9MB/s]\n",
            "100% 5.49M/5.49M [00:00<00:00, 49.1MB/s]\n"
          ],
          "name": "stdout"
        }
      ]
    },
    {
      "cell_type": "code",
      "metadata": {
        "colab": {
          "base_uri": "https://localhost:8080/"
        },
        "id": "Xg4UwlBNAcwc",
        "outputId": "37912098-7985-491b-a6e0-cd2da98a937f"
      },
      "source": [
        "!unzip training_set_rel3.tsv.zip\r\n",
        "\r\n",
        "!unzip test_set.tsv.zip"
      ],
      "execution_count": 4,
      "outputs": [
        {
          "output_type": "stream",
          "text": [
            "Archive:  training_set_rel3.tsv.zip\n",
            "  inflating: training_set_rel3.tsv   \n",
            "Archive:  test_set.tsv.zip\n",
            "  inflating: test_set.tsv            \n"
          ],
          "name": "stdout"
        }
      ]
    },
    {
      "cell_type": "markdown",
      "metadata": {
        "id": "H-ASwvDP9wkk"
      },
      "source": [
        "Por último corremos el siguiente comando que localiza la carpeta donde se encuentran los datos descargados y la copia a la carpeta de destino en nuestro drive para evitar que sean eliminados al terminar la sesion de Colab"
      ]
    },
    {
      "cell_type": "code",
      "metadata": {
        "id": "o8F0tmjrBzJ0"
      },
      "source": [
        "#path that contains folder you want to copy\r\n",
        "%cd /content\r\n",
        "%cp -av /content /gdrive/MyDrive/UNS/Aprendizaje_de_maquina/Proyecto_Final/data"
      ],
      "execution_count": null,
      "outputs": []
    },
    {
      "cell_type": "markdown",
      "metadata": {
        "id": "q5mmZ6IkB0zW"
      },
      "source": [
        "O si solo queremos ciertos archivos:"
      ]
    },
    {
      "cell_type": "code",
      "metadata": {
        "colab": {
          "base_uri": "https://localhost:8080/"
        },
        "id": "B4Gl-rjmZME0",
        "outputId": "98b8bb5f-2864-49a2-c64f-23088d712899"
      },
      "source": [
        "#path that contains folder you want to copy\r\n",
        "%cd /content\r\n",
        "%cp -av /content/training_set_rel3.tsv /gdrive/MyDrive/UNS/Aprendizaje_de_maquina/Proyecto_Final/data"
      ],
      "execution_count": 8,
      "outputs": [
        {
          "output_type": "stream",
          "text": [
            "/content\n",
            "'/content/training_set_rel3.tsv' -> '/gdrive/MyDrive/UNS/Aprendizaje_de_maquina/Proyecto_Final/data/training_set_rel3.tsv'\n"
          ],
          "name": "stdout"
        }
      ]
    },
    {
      "cell_type": "code",
      "metadata": {
        "colab": {
          "base_uri": "https://localhost:8080/"
        },
        "id": "9BvakyNhA34E",
        "outputId": "c2ae5268-2ee8-4351-f8db-d48a398101eb"
      },
      "source": [
        "#path that contains folder you want to copy\r\n",
        "%cd /content\r\n",
        "%cp -av /content/test_set.tsv /gdrive/MyDrive/UNS/Aprendizaje_de_maquina/Proyecto_Final/data"
      ],
      "execution_count": 9,
      "outputs": [
        {
          "output_type": "stream",
          "text": [
            "/content\n",
            "'/content/test_set.tsv' -> '/gdrive/MyDrive/UNS/Aprendizaje_de_maquina/Proyecto_Final/data/test_set.tsv'\n"
          ],
          "name": "stdout"
        }
      ]
    },
    {
      "cell_type": "markdown",
      "metadata": {
        "id": "yvkM8zvd9_7E"
      },
      "source": [
        "Lo siguiente es subir al [repositorio](https://github.com/GastonRAraujo/Materia-Ap_Maq) del proyecto los archivos necesarios, ya que el dataset consta de archivos extra como documentacion, distintos formatos para los datos...\r\n",
        "De esta forma podremos acceder a ellos utilizando directamente la libreria pandas y el link que nos otorga GitHub para cada archivo."
      ]
    },
    {
      "cell_type": "markdown",
      "metadata": {
        "id": "18zZBgwnB7Lc"
      },
      "source": [
        "Es importante leer la documentación ya que contiene información sobre la estructura de los datos. Esto nos permitirá hacer un mejor procesamiento de los mismos..."
      ]
    }
  ]
}